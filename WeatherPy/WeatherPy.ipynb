{
 "cells": [
  {
   "cell_type": "markdown",
   "metadata": {},
   "source": [
    "# WeatherPy\n",
    "----\n",
    "\n",
    "#### Note\n",
    "* Instructions have been included for each segment. You do not have to follow them exactly, but they are included to help you think through the steps."
   ]
  },
  {
   "cell_type": "code",
   "execution_count": 1,
   "metadata": {
    "scrolled": true
   },
   "outputs": [],
   "source": [
    "# Dependencies and Setup\n",
    "import matplotlib.pyplot as plt\n",
    "import pandas as pd\n",
    "import numpy as np\n",
    "import requests\n",
    "import time\n",
    "from scipy import stats\n",
    "from scipy.stats import linregress\n",
    "\n",
    "# Import API key\n",
    "from api_keys import weather_api_key\n",
    "\n",
    "# Incorporated citipy to determine city based on latitude and longitude\n",
    "from citipy import citipy\n",
    "\n",
    "# Output File (CSV)\n",
    "output_data_file = \"../output_data/cities.csv\"\n",
    "\n",
    "# Range of latitudes and longitudes\n",
    "lat_range = (-90, 90)\n",
    "lng_range = (-180, 180)"
   ]
  },
  {
   "cell_type": "markdown",
   "metadata": {},
   "source": [
    "## Generate Cities List"
   ]
  },
  {
   "cell_type": "code",
   "execution_count": 2,
   "metadata": {},
   "outputs": [
    {
     "data": {
      "text/plain": [
       "608"
      ]
     },
     "execution_count": 2,
     "metadata": {},
     "output_type": "execute_result"
    }
   ],
   "source": [
    "# List for holding lat_lngs and cities\n",
    "lat_lngs = []\n",
    "cities = []\n",
    "\n",
    "# Create a set of random lat and lng combinations\n",
    "lats = np.random.uniform(lat_range[0], lat_range[1], size=1500)\n",
    "lngs = np.random.uniform(lng_range[0], lng_range[1], size=1500)\n",
    "lat_lngs = zip(lats, lngs)\n",
    "\n",
    "# Identify nearest city for each lat, lng combination\n",
    "for lat_lng in lat_lngs:\n",
    "    city = citipy.nearest_city(lat_lng[0], lat_lng[1]).city_name\n",
    "    \n",
    "    # If the city is unique, then add it to a our cities list\n",
    "    if city not in cities:\n",
    "        cities.append(city)\n",
    "\n",
    "# Print the city count to confirm sufficient count\n",
    "len(cities)"
   ]
  },
  {
   "cell_type": "code",
   "execution_count": 3,
   "metadata": {},
   "outputs": [
    {
     "data": {
      "text/plain": [
       "'http://api.openweathermap.org/data/2.5/weather?appid=bb022467b5f4f48840f751f987d9c29a&units=imperial&q='"
      ]
     },
     "execution_count": 3,
     "metadata": {},
     "output_type": "execute_result"
    }
   ],
   "source": [
    "# Save config information.\n",
    "url = \"http://api.openweathermap.org/data/2.5/weather?\"\n",
    "units = \"imperial\"\n",
    "\n",
    "# Build partial query URL\n",
    "query_url = f\"{url}appid={weather_api_key}&units={units}&q=\"\n",
    "query_url"
   ]
  },
  {
   "cell_type": "markdown",
   "metadata": {},
   "source": [
    "### Perform API Calls\n",
    "* Perform a weather check on each city using a series of successive API calls.\n",
    "* Include a print log of each city as it'sbeing processed (with the city number and city name).\n"
   ]
  },
  {
   "cell_type": "code",
   "execution_count": 4,
   "metadata": {
    "scrolled": true
   },
   "outputs": [
    {
     "name": "stdout",
     "output_type": "stream",
     "text": [
      "Beginning Data Retrieval     \n",
      "-----------------------------\n",
      "Processing Record 1 of Set 1 | bredasdorp\n",
      "Processing Record 2 of Set 1 | punta arenas\n",
      "Processing Record 3 of Set 1 | vao\n",
      "Processing Record 4 of Set 1 | finschhafen\n",
      "Processing Record 5 of Set 1 | arraial do cabo\n",
      "Processing Record 6 of Set 1 | tuktoyaktuk\n",
      "Processing Record 7 of Set 1 | salalah\n",
      "Processing Record 8 of Set 1 | albany\n",
      "Processing Record 9 of Set 1 | thompson\n",
      "Processing Record 10 of Set 1 | hami\n",
      "Processing Record 11 of Set 1 | new norfolk\n",
      "Processing Record 12 of Set 1 | taolanaro\n",
      "City not found. Skipping...\n",
      "Processing Record 13 of Set 1 | butaritari\n",
      "Processing Record 14 of Set 1 | ushuaia\n",
      "Processing Record 15 of Set 1 | bambous virieux\n",
      "Processing Record 16 of Set 1 | bluff\n",
      "Processing Record 17 of Set 1 | chuy\n",
      "Processing Record 18 of Set 1 | yellowknife\n",
      "Processing Record 19 of Set 1 | chokurdakh\n",
      "Processing Record 20 of Set 1 | rikitea\n",
      "Processing Record 21 of Set 1 | kodiak\n",
      "Processing Record 22 of Set 1 | hobart\n",
      "Processing Record 23 of Set 1 | iqaluit\n",
      "Processing Record 24 of Set 1 | kaitangata\n",
      "Processing Record 25 of Set 1 | victoria\n",
      "Processing Record 26 of Set 1 | cape town\n",
      "Processing Record 27 of Set 1 | limao\n",
      "Processing Record 28 of Set 1 | atuona\n",
      "Processing Record 29 of Set 1 | buckhaven\n",
      "Processing Record 30 of Set 1 | lubu\n",
      "Processing Record 31 of Set 1 | cidreira\n",
      "Processing Record 32 of Set 1 | ust-koksa\n",
      "Processing Record 33 of Set 1 | mergui\n",
      "City not found. Skipping...\n",
      "Processing Record 34 of Set 1 | kangaatsiaq\n",
      "Processing Record 35 of Set 1 | dakar\n",
      "Processing Record 36 of Set 1 | barentsburg\n",
      "City not found. Skipping...\n",
      "Processing Record 37 of Set 1 | bogo\n",
      "Processing Record 38 of Set 1 | kavieng\n",
      "Processing Record 39 of Set 1 | casa nova\n",
      "Processing Record 40 of Set 1 | camacha\n",
      "Processing Record 41 of Set 1 | ulladulla\n",
      "Processing Record 42 of Set 1 | ahipara\n",
      "Processing Record 43 of Set 1 | barrow\n",
      "Processing Record 44 of Set 1 | sitka\n",
      "Processing Record 45 of Set 1 | amderma\n",
      "City not found. Skipping...\n",
      "Processing Record 46 of Set 1 | hermanus\n",
      "Processing Record 47 of Set 1 | ribeira grande\n",
      "Processing Record 48 of Set 1 | tolaga bay\n",
      "Processing Record 49 of Set 1 | kaeo\n",
      "Processing Record 1 of Set 2 | avarua\n",
      "Processing Record 2 of Set 2 | hofn\n",
      "Processing Record 3 of Set 2 | hovd\n",
      "Processing Record 4 of Set 2 | saryshagan\n",
      "City not found. Skipping...\n",
      "Processing Record 5 of Set 2 | mahebourg\n",
      "Processing Record 6 of Set 2 | busselton\n",
      "Processing Record 7 of Set 2 | hambantota\n",
      "Processing Record 8 of Set 2 | mataura\n",
      "Processing Record 9 of Set 2 | mersing\n",
      "Processing Record 10 of Set 2 | nizhneyansk\n",
      "City not found. Skipping...\n",
      "Processing Record 11 of Set 2 | lompoc\n",
      "Processing Record 12 of Set 2 | carnarvon\n",
      "Processing Record 13 of Set 2 | vaini\n",
      "Processing Record 14 of Set 2 | hohhot\n",
      "Processing Record 15 of Set 2 | faanui\n",
      "Processing Record 16 of Set 2 | east london\n",
      "Processing Record 17 of Set 2 | naze\n",
      "Processing Record 18 of Set 2 | chauk\n",
      "Processing Record 19 of Set 2 | dikson\n",
      "Processing Record 20 of Set 2 | caborca\n",
      "Processing Record 21 of Set 2 | butembo\n",
      "Processing Record 22 of Set 2 | tasiilaq\n",
      "Processing Record 23 of Set 2 | buin\n",
      "Processing Record 24 of Set 2 | zhanakorgan\n",
      "Processing Record 25 of Set 2 | cervo\n",
      "Processing Record 26 of Set 2 | villamontes\n",
      "Processing Record 27 of Set 2 | vaitupu\n",
      "City not found. Skipping...\n",
      "Processing Record 28 of Set 2 | upernavik\n",
      "Processing Record 29 of Set 2 | jamestown\n",
      "Processing Record 30 of Set 2 | kailua\n",
      "Processing Record 31 of Set 2 | palmer\n",
      "Processing Record 32 of Set 2 | volchikha\n",
      "Processing Record 33 of Set 2 | ambagarh chauki\n",
      "Processing Record 34 of Set 2 | aklavik\n",
      "Processing Record 35 of Set 2 | castro\n",
      "Processing Record 36 of Set 2 | sabang\n",
      "Processing Record 37 of Set 2 | japura\n",
      "Processing Record 38 of Set 2 | eyl\n",
      "Processing Record 39 of Set 2 | bengkulu\n",
      "Processing Record 40 of Set 2 | san patricio\n",
      "Processing Record 41 of Set 2 | nador\n",
      "Processing Record 42 of Set 2 | talnakh\n",
      "Processing Record 43 of Set 2 | kintinku\n",
      "Processing Record 44 of Set 2 | esperance\n",
      "Processing Record 45 of Set 2 | provideniya\n",
      "Processing Record 46 of Set 2 | chara\n",
      "Processing Record 47 of Set 2 | kapaa\n",
      "Processing Record 48 of Set 2 | berlevag\n",
      "Processing Record 49 of Set 2 | klaksvik\n",
      "Processing Record 1 of Set 3 | saint-francois\n",
      "Processing Record 2 of Set 3 | puerto ayora\n",
      "Processing Record 3 of Set 3 | mitsamiouli\n",
      "Processing Record 4 of Set 3 | hithadhoo\n",
      "Processing Record 5 of Set 3 | kachiry\n",
      "Processing Record 6 of Set 3 | axim\n",
      "Processing Record 7 of Set 3 | northview\n",
      "Processing Record 8 of Set 3 | palaiokhora\n",
      "City not found. Skipping...\n",
      "Processing Record 9 of Set 3 | amursk\n",
      "Processing Record 10 of Set 3 | guerrero negro\n",
      "Processing Record 11 of Set 3 | filingue\n",
      "Processing Record 12 of Set 3 | ginda\n",
      "Processing Record 13 of Set 3 | gurupa\n",
      "Processing Record 14 of Set 3 | simpang\n",
      "Processing Record 15 of Set 3 | lebu\n",
      "Processing Record 16 of Set 3 | saint-augustin\n",
      "Processing Record 17 of Set 3 | touros\n",
      "Processing Record 18 of Set 3 | ostrovnoy\n",
      "Processing Record 19 of Set 3 | general roca\n",
      "Processing Record 20 of Set 3 | strezhevoy\n",
      "Processing Record 21 of Set 3 | hisua\n",
      "Processing Record 22 of Set 3 | bilma\n",
      "Processing Record 23 of Set 3 | seoul\n",
      "Processing Record 24 of Set 3 | regina\n",
      "Processing Record 25 of Set 3 | turtkul\n",
      "City not found. Skipping...\n",
      "Processing Record 26 of Set 3 | coyuca\n",
      "City not found. Skipping...\n",
      "Processing Record 27 of Set 3 | saint george\n",
      "Processing Record 28 of Set 3 | mayo\n",
      "Processing Record 29 of Set 3 | muros\n",
      "Processing Record 30 of Set 3 | qaanaaq\n",
      "Processing Record 31 of Set 3 | galle\n",
      "Processing Record 32 of Set 3 | arcata\n",
      "Processing Record 33 of Set 3 | ilulissat\n",
      "Processing Record 34 of Set 3 | hvammstangi\n",
      "City not found. Skipping...\n",
      "Processing Record 35 of Set 3 | cherskiy\n",
      "Processing Record 36 of Set 3 | klos\n",
      "Processing Record 37 of Set 3 | lima\n",
      "Processing Record 38 of Set 3 | saskylakh\n",
      "Processing Record 39 of Set 3 | georgetown\n",
      "Processing Record 40 of Set 3 | wajir\n",
      "Processing Record 41 of Set 3 | olafsvik\n",
      "Processing Record 42 of Set 3 | narsaq\n",
      "Processing Record 43 of Set 3 | roald\n",
      "Processing Record 44 of Set 3 | buala\n",
      "Processing Record 45 of Set 3 | vanderhoof\n",
      "Processing Record 46 of Set 3 | melilla\n",
      "Processing Record 47 of Set 3 | tamandare\n",
      "Processing Record 48 of Set 3 | hualmay\n",
      "Processing Record 49 of Set 3 | ende\n",
      "Processing Record 1 of Set 4 | sikonge\n",
      "Processing Record 2 of Set 4 | ekibastuz\n",
      "Processing Record 3 of Set 4 | illoqqortoormiut\n",
      "City not found. Skipping...\n",
      "Processing Record 4 of Set 4 | port alfred\n",
      "Processing Record 5 of Set 4 | nuevo laredo\n",
      "Processing Record 6 of Set 4 | tuburan\n",
      "Processing Record 7 of Set 4 | domoni\n",
      "Processing Record 8 of Set 4 | bermejo\n",
      "Processing Record 9 of Set 4 | poum\n",
      "Processing Record 10 of Set 4 | corrente\n",
      "Processing Record 11 of Set 4 | torbay\n",
      "Processing Record 12 of Set 4 | brae\n",
      "Processing Record 13 of Set 4 | sri aman\n",
      "Processing Record 14 of Set 4 | sambava\n",
      "Processing Record 15 of Set 4 | leningradskiy\n",
      "Processing Record 16 of Set 4 | tessalit\n",
      "Processing Record 17 of Set 4 | rio gallegos\n",
      "Processing Record 18 of Set 4 | matsanga\n",
      "City not found. Skipping...\n",
      "Processing Record 19 of Set 4 | khonuu\n",
      "City not found. Skipping...\n",
      "Processing Record 20 of Set 4 | darlowo\n",
      "Processing Record 21 of Set 4 | anloga\n",
      "Processing Record 22 of Set 4 | charleston\n",
      "Processing Record 23 of Set 4 | manoel urbano\n",
      "Processing Record 24 of Set 4 | belushya guba\n",
      "City not found. Skipping...\n",
      "Processing Record 25 of Set 4 | sentyabrskiy\n",
      "City not found. Skipping...\n",
      "Processing Record 26 of Set 4 | amazar\n",
      "Processing Record 27 of Set 4 | rafai\n",
      "Processing Record 28 of Set 4 | rawannawi\n",
      "City not found. Skipping...\n",
      "Processing Record 29 of Set 4 | vardo\n",
      "Processing Record 30 of Set 4 | bilibino\n",
      "Processing Record 31 of Set 4 | oxford\n",
      "Processing Record 32 of Set 4 | negombo\n",
      "Processing Record 33 of Set 4 | novyy urengoy\n",
      "Processing Record 34 of Set 4 | ivanovka\n",
      "Processing Record 35 of Set 4 | zonguldak\n",
      "Processing Record 36 of Set 4 | samusu\n",
      "City not found. Skipping...\n",
      "Processing Record 37 of Set 4 | lac du bonnet\n",
      "Processing Record 38 of Set 4 | taltal\n",
      "Processing Record 39 of Set 4 | clyde river\n",
      "Processing Record 40 of Set 4 | tombouctou\n",
      "Processing Record 41 of Set 4 | hilo\n"
     ]
    },
    {
     "name": "stdout",
     "output_type": "stream",
     "text": [
      "Processing Record 42 of Set 4 | paranaiba\n",
      "Processing Record 43 of Set 4 | karpogory\n",
      "Processing Record 44 of Set 4 | beyneu\n",
      "Processing Record 45 of Set 4 | caravelas\n",
      "Processing Record 46 of Set 4 | aykhal\n",
      "Processing Record 47 of Set 4 | atasu\n",
      "Processing Record 48 of Set 4 | winnemucca\n",
      "Processing Record 49 of Set 4 | kovernino\n",
      "Processing Record 1 of Set 5 | natal\n",
      "Processing Record 2 of Set 5 | balsas\n",
      "Processing Record 3 of Set 5 | segou\n",
      "Processing Record 4 of Set 5 | nanortalik\n",
      "Processing Record 5 of Set 5 | fairbanks\n",
      "Processing Record 6 of Set 5 | norman wells\n",
      "Processing Record 7 of Set 5 | katangli\n",
      "Processing Record 8 of Set 5 | ozernovskiy\n",
      "Processing Record 9 of Set 5 | khatanga\n",
      "Processing Record 10 of Set 5 | kuttanallur\n",
      "City not found. Skipping...\n",
      "Processing Record 11 of Set 5 | stykkisholmur\n",
      "Processing Record 12 of Set 5 | korla\n",
      "Processing Record 13 of Set 5 | yar-sale\n",
      "Processing Record 14 of Set 5 | poplar bluff\n",
      "Processing Record 15 of Set 5 | deniliquin\n",
      "Processing Record 16 of Set 5 | nikolskoye\n",
      "Processing Record 17 of Set 5 | el retorno\n",
      "Processing Record 18 of Set 5 | padang\n",
      "Processing Record 19 of Set 5 | bereznik\n",
      "Processing Record 20 of Set 5 | yirol\n",
      "City not found. Skipping...\n",
      "Processing Record 21 of Set 5 | port elizabeth\n",
      "Processing Record 22 of Set 5 | ambulu\n",
      "Processing Record 23 of Set 5 | vila velha\n",
      "Processing Record 24 of Set 5 | langfang\n",
      "Processing Record 25 of Set 5 | codrington\n",
      "Processing Record 26 of Set 5 | jalu\n",
      "Processing Record 27 of Set 5 | ostroh\n",
      "Processing Record 28 of Set 5 | grand gaube\n",
      "Processing Record 29 of Set 5 | longyearbyen\n",
      "Processing Record 30 of Set 5 | gwembe\n",
      "Processing Record 31 of Set 5 | candido mendes\n",
      "Processing Record 32 of Set 5 | vaitape\n",
      "Processing Record 33 of Set 5 | corbu\n",
      "Processing Record 34 of Set 5 | saint-philippe\n",
      "Processing Record 35 of Set 5 | lasa\n",
      "Processing Record 36 of Set 5 | stockbridge\n",
      "Processing Record 37 of Set 5 | geraldton\n",
      "Processing Record 38 of Set 5 | chernyshevskiy\n",
      "Processing Record 39 of Set 5 | siocon\n",
      "Processing Record 40 of Set 5 | ancud\n",
      "Processing Record 41 of Set 5 | bousse\n",
      "Processing Record 42 of Set 5 | jizan\n",
      "Processing Record 43 of Set 5 | tuatapere\n",
      "Processing Record 44 of Set 5 | mezen\n",
      "Processing Record 45 of Set 5 | acapulco\n",
      "Processing Record 46 of Set 5 | teluk nibung\n",
      "Processing Record 47 of Set 5 | vung tau\n",
      "Processing Record 48 of Set 5 | urdzhar\n",
      "City not found. Skipping...\n",
      "Processing Record 49 of Set 5 | bakel\n",
      "Processing Record 1 of Set 6 | tonj\n",
      "Processing Record 2 of Set 6 | sakakah\n",
      "Processing Record 3 of Set 6 | nikel\n",
      "Processing Record 4 of Set 6 | nekrasovskiy\n",
      "Processing Record 5 of Set 6 | pryozerne\n",
      "Processing Record 6 of Set 6 | tukrah\n",
      "Processing Record 7 of Set 6 | tabiauea\n",
      "City not found. Skipping...\n",
      "Processing Record 8 of Set 6 | lavrentiya\n",
      "Processing Record 9 of Set 6 | sechura\n",
      "Processing Record 10 of Set 6 | mys shmidta\n",
      "City not found. Skipping...\n",
      "Processing Record 11 of Set 6 | sumbe\n",
      "Processing Record 12 of Set 6 | vila franca do campo\n",
      "Processing Record 13 of Set 6 | port lincoln\n",
      "Processing Record 14 of Set 6 | richards bay\n",
      "Processing Record 15 of Set 6 | moerai\n",
      "Processing Record 16 of Set 6 | maloshuyka\n",
      "City not found. Skipping...\n",
      "Processing Record 17 of Set 6 | arkhangelsk\n",
      "Processing Record 18 of Set 6 | panzhihua\n",
      "Processing Record 19 of Set 6 | ayan\n",
      "Processing Record 20 of Set 6 | cabo san lucas\n",
      "Processing Record 21 of Set 6 | bull savanna\n",
      "Processing Record 22 of Set 6 | severo-kurilsk\n",
      "Processing Record 23 of Set 6 | chimoio\n",
      "Processing Record 24 of Set 6 | paamiut\n",
      "Processing Record 25 of Set 6 | shache\n",
      "Processing Record 26 of Set 6 | manaure\n",
      "Processing Record 27 of Set 6 | bairiki\n",
      "Processing Record 28 of Set 6 | ugoofaaru\n",
      "Processing Record 29 of Set 6 | louisbourg\n",
      "City not found. Skipping...\n",
      "Processing Record 30 of Set 6 | zacualpan\n",
      "Processing Record 31 of Set 6 | saint-joseph\n",
      "Processing Record 32 of Set 6 | cayenne\n",
      "Processing Record 33 of Set 6 | karamay\n",
      "City not found. Skipping...\n",
      "Processing Record 34 of Set 6 | bethel\n",
      "Processing Record 35 of Set 6 | mar del plata\n",
      "Processing Record 36 of Set 6 | verkhoyansk\n",
      "Processing Record 37 of Set 6 | petropavlovsk-kamchatskiy\n",
      "Processing Record 38 of Set 6 | ambon\n",
      "Processing Record 39 of Set 6 | san policarpo\n",
      "Processing Record 40 of Set 6 | gotsu\n",
      "Processing Record 41 of Set 6 | pinos\n",
      "Processing Record 42 of Set 6 | airai\n",
      "Processing Record 43 of Set 6 | akdepe\n",
      "Processing Record 44 of Set 6 | ilyich\n",
      "Processing Record 45 of Set 6 | emerald\n",
      "Processing Record 46 of Set 6 | port blair\n",
      "Processing Record 47 of Set 6 | alappuzha\n",
      "Processing Record 48 of Set 6 | tumannyy\n",
      "City not found. Skipping...\n",
      "Processing Record 49 of Set 6 | bolungarvik\n",
      "City not found. Skipping...\n",
      "Processing Record 1 of Set 7 | tiksi\n",
      "Processing Record 2 of Set 7 | geresk\n",
      "City not found. Skipping...\n",
      "Processing Record 3 of Set 7 | maceio\n",
      "Processing Record 4 of Set 7 | pevek\n",
      "Processing Record 5 of Set 7 | linkoping\n",
      "Processing Record 6 of Set 7 | vostok\n",
      "Processing Record 7 of Set 7 | tevaitoa\n",
      "Processing Record 8 of Set 7 | saldanha\n",
      "Processing Record 9 of Set 7 | labytnangi\n",
      "Processing Record 10 of Set 7 | ambilobe\n",
      "Processing Record 11 of Set 7 | keti bandar\n",
      "Processing Record 12 of Set 7 | lata\n",
      "Processing Record 13 of Set 7 | hay river\n",
      "Processing Record 14 of Set 7 | huron\n",
      "Processing Record 15 of Set 7 | abha\n",
      "Processing Record 16 of Set 7 | nome\n",
      "Processing Record 17 of Set 7 | marang\n",
      "Processing Record 18 of Set 7 | tarare\n",
      "Processing Record 19 of Set 7 | auki\n",
      "Processing Record 20 of Set 7 | bafq\n",
      "Processing Record 21 of Set 7 | bonavista\n",
      "Processing Record 22 of Set 7 | shostka\n",
      "Processing Record 23 of Set 7 | lakes entrance\n",
      "Processing Record 24 of Set 7 | barbastro\n",
      "Processing Record 25 of Set 7 | constitucion\n",
      "Processing Record 26 of Set 7 | westport\n",
      "Processing Record 27 of Set 7 | ruteng\n",
      "Processing Record 28 of Set 7 | saleaula\n",
      "City not found. Skipping...\n",
      "Processing Record 29 of Set 7 | faya\n",
      "Processing Record 30 of Set 7 | half moon bay\n",
      "Processing Record 31 of Set 7 | paripiranga\n",
      "Processing Record 32 of Set 7 | morgan city\n",
      "Processing Record 33 of Set 7 | mount isa\n",
      "Processing Record 34 of Set 7 | comodoro rivadavia\n",
      "Processing Record 35 of Set 7 | buraydah\n",
      "Processing Record 36 of Set 7 | antofagasta\n",
      "Processing Record 37 of Set 7 | ringe\n",
      "Processing Record 38 of Set 7 | jezerski\n",
      "Processing Record 39 of Set 7 | tiznit\n",
      "Processing Record 40 of Set 7 | manati\n",
      "Processing Record 41 of Set 7 | atar\n",
      "Processing Record 42 of Set 7 | chifeng\n",
      "Processing Record 43 of Set 7 | houma\n",
      "Processing Record 44 of Set 7 | bukachacha\n",
      "Processing Record 45 of Set 7 | okha\n",
      "Processing Record 46 of Set 7 | hammerfest\n",
      "Processing Record 47 of Set 7 | shetpe\n",
      "Processing Record 48 of Set 7 | methoni\n",
      "Processing Record 49 of Set 7 | nuuk\n",
      "Processing Record 1 of Set 8 | eureka\n",
      "Processing Record 2 of Set 8 | reading\n",
      "Processing Record 3 of Set 8 | hinton\n",
      "Processing Record 4 of Set 8 | sirjan\n",
      "Processing Record 5 of Set 8 | gold coast\n",
      "Processing Record 6 of Set 8 | pacific grove\n",
      "Processing Record 7 of Set 8 | port macquarie\n",
      "Processing Record 8 of Set 8 | lofos\n",
      "Processing Record 9 of Set 8 | kruisfontein\n",
      "Processing Record 10 of Set 8 | ginir\n",
      "Processing Record 11 of Set 8 | chiungutwa\n",
      "Processing Record 12 of Set 8 | tutoia\n",
      "Processing Record 13 of Set 8 | vicuna\n",
      "Processing Record 14 of Set 8 | shenjiamen\n",
      "Processing Record 15 of Set 8 | ambatofinandrahana\n",
      "Processing Record 16 of Set 8 | tallahassee\n",
      "Processing Record 17 of Set 8 | luderitz\n",
      "Processing Record 18 of Set 8 | black river\n",
      "Processing Record 19 of Set 8 | orel-izumrud\n",
      "Processing Record 20 of Set 8 | sioux lookout\n",
      "Processing Record 21 of Set 8 | sibolga\n",
      "Processing Record 22 of Set 8 | chimore\n",
      "Processing Record 23 of Set 8 | okhotsk\n",
      "Processing Record 24 of Set 8 | kajaani\n",
      "Processing Record 25 of Set 8 | jibuti\n",
      "Processing Record 26 of Set 8 | karkaralinsk\n",
      "City not found. Skipping...\n",
      "Processing Record 27 of Set 8 | buqayq\n",
      "City not found. Skipping...\n",
      "Processing Record 28 of Set 8 | antalaha\n",
      "Processing Record 29 of Set 8 | sola\n",
      "Processing Record 30 of Set 8 | charlestown\n",
      "Processing Record 31 of Set 8 | imbituva\n",
      "Processing Record 32 of Set 8 | banda aceh\n",
      "Processing Record 33 of Set 8 | anchorage\n",
      "Processing Record 34 of Set 8 | meulaboh\n",
      "Processing Record 35 of Set 8 | quimper\n"
     ]
    },
    {
     "name": "stdout",
     "output_type": "stream",
     "text": [
      "Processing Record 36 of Set 8 | port hardy\n",
      "Processing Record 37 of Set 8 | juifang\n",
      "City not found. Skipping...\n",
      "Processing Record 38 of Set 8 | carutapera\n",
      "Processing Record 39 of Set 8 | mount gambier\n",
      "Processing Record 40 of Set 8 | fortuna\n",
      "Processing Record 41 of Set 8 | vanavara\n",
      "Processing Record 42 of Set 8 | northam\n",
      "Processing Record 43 of Set 8 | karratha\n",
      "Processing Record 44 of Set 8 | grindavik\n",
      "Processing Record 45 of Set 8 | kungurtug\n",
      "Processing Record 46 of Set 8 | osa\n",
      "Processing Record 47 of Set 8 | griffith\n",
      "Processing Record 48 of Set 8 | siderno\n",
      "Processing Record 49 of Set 8 | isoka\n",
      "Processing Record 1 of Set 9 | kyra\n",
      "Processing Record 2 of Set 9 | trairi\n",
      "Processing Record 3 of Set 9 | assiniboia\n",
      "Processing Record 4 of Set 9 | asau\n",
      "Processing Record 5 of Set 9 | bonthe\n",
      "Processing Record 6 of Set 9 | lerwick\n",
      "Processing Record 7 of Set 9 | green river\n",
      "Processing Record 8 of Set 9 | sao joao da barra\n",
      "Processing Record 9 of Set 9 | andevoranto\n",
      "City not found. Skipping...\n",
      "Processing Record 10 of Set 9 | alamos\n",
      "Processing Record 11 of Set 9 | tambul\n",
      "City not found. Skipping...\n",
      "Processing Record 12 of Set 9 | waingapu\n",
      "Processing Record 13 of Set 9 | nacala\n",
      "Processing Record 14 of Set 9 | hobyo\n",
      "Processing Record 15 of Set 9 | wamba\n",
      "Processing Record 16 of Set 9 | comendador\n",
      "Processing Record 17 of Set 9 | pangnirtung\n",
      "Processing Record 18 of Set 9 | grand river south east\n",
      "City not found. Skipping...\n",
      "Processing Record 19 of Set 9 | brawley\n",
      "Processing Record 20 of Set 9 | palabuhanratu\n",
      "City not found. Skipping...\n",
      "Processing Record 21 of Set 9 | bati\n",
      "Processing Record 22 of Set 9 | peniche\n",
      "Processing Record 23 of Set 9 | nouakchott\n",
      "Processing Record 24 of Set 9 | trat\n",
      "Processing Record 25 of Set 9 | porto novo\n",
      "Processing Record 26 of Set 9 | walvis bay\n",
      "Processing Record 27 of Set 9 | manggar\n",
      "Processing Record 28 of Set 9 | santa isabel do rio negro\n",
      "Processing Record 29 of Set 9 | calamar\n",
      "Processing Record 30 of Set 9 | kazanskaya\n",
      "Processing Record 31 of Set 9 | jarocin\n",
      "Processing Record 32 of Set 9 | te anau\n",
      "Processing Record 33 of Set 9 | sayat\n",
      "Processing Record 34 of Set 9 | bowen\n",
      "Processing Record 35 of Set 9 | atbasar\n",
      "Processing Record 36 of Set 9 | boksitogorsk\n",
      "Processing Record 37 of Set 9 | puerto baquerizo moreno\n",
      "Processing Record 38 of Set 9 | saint-pierre\n",
      "Processing Record 39 of Set 9 | vestmanna\n",
      "Processing Record 40 of Set 9 | merauke\n",
      "Processing Record 41 of Set 9 | puerto colombia\n",
      "Processing Record 42 of Set 9 | rosario do sul\n",
      "Processing Record 43 of Set 9 | tsihombe\n",
      "City not found. Skipping...\n",
      "Processing Record 44 of Set 9 | kirakira\n",
      "Processing Record 45 of Set 9 | lumberton\n",
      "Processing Record 46 of Set 9 | dunedin\n",
      "Processing Record 47 of Set 9 | san cristobal\n",
      "Processing Record 48 of Set 9 | currais novos\n",
      "Processing Record 49 of Set 9 | makakilo city\n",
      "Processing Record 1 of Set 10 | bell ville\n",
      "Processing Record 2 of Set 10 | tingloy\n",
      "Processing Record 3 of Set 10 | sur\n",
      "Processing Record 4 of Set 10 | chapais\n",
      "Processing Record 5 of Set 10 | attawapiskat\n",
      "City not found. Skipping...\n",
      "Processing Record 6 of Set 10 | khandagayty\n",
      "Processing Record 7 of Set 10 | vanimo\n",
      "Processing Record 8 of Set 10 | chabahar\n",
      "Processing Record 9 of Set 10 | port-cartier\n",
      "Processing Record 10 of Set 10 | olinda\n",
      "Processing Record 11 of Set 10 | guerande\n",
      "Processing Record 12 of Set 10 | kiama\n",
      "Processing Record 13 of Set 10 | whitehorse\n",
      "Processing Record 14 of Set 10 | dawson creek\n",
      "Processing Record 15 of Set 10 | glenwood springs\n",
      "Processing Record 16 of Set 10 | kutum\n",
      "Processing Record 17 of Set 10 | vila\n",
      "Processing Record 18 of Set 10 | zlatoustovsk\n",
      "City not found. Skipping...\n",
      "Processing Record 19 of Set 10 | mayskiy\n",
      "Processing Record 20 of Set 10 | nelson bay\n",
      "Processing Record 21 of Set 10 | misasi\n",
      "Processing Record 22 of Set 10 | binabalian\n",
      "Processing Record 23 of Set 10 | hamilton\n",
      "Processing Record 24 of Set 10 | kamenka\n",
      "Processing Record 25 of Set 10 | cockburn town\n",
      "Processing Record 26 of Set 10 | namatanai\n",
      "Processing Record 27 of Set 10 | namibe\n",
      "Processing Record 28 of Set 10 | samarai\n",
      "Processing Record 29 of Set 10 | muroto\n",
      "Processing Record 30 of Set 10 | formosa\n",
      "Processing Record 31 of Set 10 | mandan\n",
      "Processing Record 32 of Set 10 | manzanillo\n",
      "Processing Record 33 of Set 10 | laguna\n",
      "Processing Record 34 of Set 10 | buenos aires\n",
      "Processing Record 35 of Set 10 | lancaster\n",
      "Processing Record 36 of Set 10 | sofiysk\n",
      "City not found. Skipping...\n",
      "Processing Record 37 of Set 10 | goderich\n",
      "Processing Record 38 of Set 10 | byron bay\n",
      "Processing Record 39 of Set 10 | gigmoto\n",
      "Processing Record 40 of Set 10 | ponta delgada\n",
      "Processing Record 41 of Set 10 | hibbing\n",
      "Processing Record 42 of Set 10 | prince rupert\n",
      "Processing Record 43 of Set 10 | presidente medici\n",
      "Processing Record 44 of Set 10 | deputatskiy\n",
      "Processing Record 45 of Set 10 | birjand\n",
      "Processing Record 46 of Set 10 | alofi\n",
      "Processing Record 47 of Set 10 | umm kaddadah\n",
      "Processing Record 48 of Set 10 | belaya gora\n",
      "Processing Record 49 of Set 10 | tupa\n",
      "Processing Record 1 of Set 11 | college\n",
      "Processing Record 2 of Set 11 | avera\n",
      "Processing Record 3 of Set 11 | los llanos de aridane\n",
      "Processing Record 4 of Set 11 | miranorte\n",
      "City not found. Skipping...\n",
      "Processing Record 5 of Set 11 | tautira\n",
      "Processing Record 6 of Set 11 | coahuayana\n",
      "Processing Record 7 of Set 11 | bereda\n",
      "Processing Record 8 of Set 11 | marechal deodoro\n",
      "Processing Record 9 of Set 11 | rungata\n",
      "City not found. Skipping...\n",
      "Processing Record 10 of Set 11 | guarapari\n",
      "Processing Record 11 of Set 11 | odweyne\n",
      "Processing Record 12 of Set 11 | ovalle\n",
      "Processing Record 13 of Set 11 | iracoubo\n",
      "Processing Record 14 of Set 11 | limbang\n",
      "Processing Record 15 of Set 11 | ipixuna\n",
      "Processing Record 16 of Set 11 | kriel\n",
      "Processing Record 17 of Set 11 | berekum\n",
      "Processing Record 18 of Set 11 | san ramon\n",
      "Processing Record 19 of Set 11 | muisne\n",
      "Processing Record 20 of Set 11 | dongsheng\n",
      "Processing Record 21 of Set 11 | boddam\n",
      "Processing Record 22 of Set 11 | qaqortoq\n",
      "Processing Record 23 of Set 11 | moyobamba\n",
      "Processing Record 24 of Set 11 | soyaux\n",
      "Processing Record 25 of Set 11 | lashio\n",
      "Processing Record 26 of Set 11 | colac\n",
      "Processing Record 27 of Set 11 | tidore\n",
      "City not found. Skipping...\n",
      "Processing Record 28 of Set 11 | fairview\n",
      "Processing Record 29 of Set 11 | san quintin\n",
      "Processing Record 30 of Set 11 | chikhli\n",
      "Processing Record 31 of Set 11 | acuna\n",
      "City not found. Skipping...\n",
      "Processing Record 32 of Set 11 | marshall\n",
      "Processing Record 33 of Set 11 | haines junction\n",
      "Processing Record 34 of Set 11 | vallenar\n",
      "Processing Record 35 of Set 11 | innisfail\n",
      "Processing Record 36 of Set 11 | ordu\n",
      "Processing Record 37 of Set 11 | santa cruz\n",
      "Processing Record 38 of Set 11 | mnogovershinnyy\n",
      "Processing Record 39 of Set 11 | fort saint john\n",
      "City not found. Skipping...\n",
      "Processing Record 40 of Set 11 | warrnambool\n",
      "Processing Record 41 of Set 11 | marcona\n",
      "City not found. Skipping...\n",
      "Processing Record 42 of Set 11 | bredy\n",
      "Processing Record 43 of Set 11 | mantua\n",
      "Processing Record 44 of Set 11 | pisco\n",
      "Processing Record 45 of Set 11 | atambua\n",
      "Processing Record 46 of Set 11 | wagar\n",
      "Processing Record 47 of Set 11 | ixtapa\n",
      "Processing Record 48 of Set 11 | elkhart\n",
      "Processing Record 49 of Set 11 | ternate\n",
      "Processing Record 1 of Set 12 | balta\n",
      "Processing Record 2 of Set 12 | ciras\n",
      "City not found. Skipping...\n",
      "Processing Record 3 of Set 12 | parksville\n",
      "Processing Record 4 of Set 12 | fare\n",
      "Processing Record 5 of Set 12 | mayor pablo lagerenza\n",
      "Processing Record 6 of Set 12 | bundaberg\n",
      "Processing Record 7 of Set 12 | coquimbo\n",
      "Processing Record 8 of Set 12 | catuday\n",
      "Processing Record 9 of Set 12 | sumbuya\n",
      "Processing Record 10 of Set 12 | high rock\n",
      "Processing Record 11 of Set 12 | sao filipe\n",
      "Processing Record 12 of Set 12 | dwarka\n",
      "Processing Record 13 of Set 12 | medzev\n",
      "Processing Record 14 of Set 12 | baykit\n",
      "Processing Record 15 of Set 12 | usinsk\n",
      "Processing Record 16 of Set 12 | kamenskoye\n",
      "City not found. Skipping...\n",
      "Processing Record 17 of Set 12 | valparaiso\n",
      "Processing Record 18 of Set 12 | isla vista\n",
      "Processing Record 19 of Set 12 | ossora\n",
      "Processing Record 20 of Set 12 | tazovskiy\n",
      "Processing Record 21 of Set 12 | alice springs\n",
      "Processing Record 22 of Set 12 | meadow lake\n"
     ]
    },
    {
     "name": "stdout",
     "output_type": "stream",
     "text": [
      "Processing Record 23 of Set 12 | moose factory\n",
      "Processing Record 24 of Set 12 | ippy\n",
      "Processing Record 25 of Set 12 | mocambique\n",
      "City not found. Skipping...\n",
      "Processing Record 26 of Set 12 | saraza\n",
      "Processing Record 27 of Set 12 | mocuba\n",
      "Processing Record 28 of Set 12 | oranjemund\n",
      "Processing Record 29 of Set 12 | barra do garcas\n",
      "Processing Record 30 of Set 12 | yingzhong\n",
      "City not found. Skipping...\n",
      "Processing Record 31 of Set 12 | zyryanka\n",
      "Processing Record 32 of Set 12 | ponta do sol\n",
      "Processing Record 33 of Set 12 | chik\n",
      "Processing Record 34 of Set 12 | staryy nadym\n",
      "Processing Record 35 of Set 12 | rawson\n",
      "Processing Record 36 of Set 12 | chernitsyno\n",
      "Processing Record 37 of Set 12 | aksha\n",
      "Processing Record 38 of Set 12 | haibowan\n",
      "City not found. Skipping...\n",
      "Processing Record 39 of Set 12 | champerico\n",
      "Processing Record 40 of Set 12 | tikamgarh\n",
      "Processing Record 41 of Set 12 | tabou\n",
      "Processing Record 42 of Set 12 | sisimiut\n",
      "Processing Record 43 of Set 12 | opuwo\n",
      "Processing Record 44 of Set 12 | talcahuano\n",
      "Processing Record 45 of Set 12 | balkhash\n",
      "Processing Record 46 of Set 12 | tsumeb\n",
      "Processing Record 47 of Set 12 | sungai siput utara\n",
      "City not found. Skipping...\n",
      "Processing Record 48 of Set 12 | les cayes\n",
      "Processing Record 49 of Set 12 | katsuura\n",
      "Processing Record 1 of Set 13 | barawe\n",
      "City not found. Skipping...\n",
      "Processing Record 2 of Set 13 | bintulu\n",
      "Processing Record 3 of Set 13 | tezu\n",
      "Processing Record 4 of Set 13 | dolbeau\n",
      "City not found. Skipping...\n",
      "Processing Record 5 of Set 13 | onega\n",
      "Processing Record 6 of Set 13 | kaliua\n",
      "Processing Record 7 of Set 13 | saint anthony\n",
      "Processing Record 8 of Set 13 | chipping sodbury\n",
      "Processing Record 9 of Set 13 | itarema\n",
      "Processing Record 10 of Set 13 | buzmeyin\n",
      "Processing Record 11 of Set 13 | verkhnyaya inta\n",
      "Processing Record 12 of Set 13 | klaebu\n",
      "Processing Record 13 of Set 13 | sfantu gheorghe\n",
      "Processing Record 14 of Set 13 | boma\n",
      "Processing Record 15 of Set 13 | viedma\n",
      "Processing Record 16 of Set 13 | palitana\n",
      "Processing Record 17 of Set 13 | isangel\n",
      "Processing Record 18 of Set 13 | komsomolskiy\n",
      "Processing Record 19 of Set 13 | brigantine\n",
      "Processing Record 20 of Set 13 | marietta\n",
      "-----------------------------\n",
      "Data Retrieval Complete      \n",
      "-----------------------------\n"
     ]
    }
   ],
   "source": [
    "# Set up dictionary to hold reponse info\n",
    "cities_data = []\n",
    "\n",
    "# Print to screen Data Retrieval\n",
    "print(\"Beginning Data Retrieval     \")\n",
    "print(\"-----------------------------\")\n",
    "\n",
    "# Initialize counters for city number and sets of 50 cities\n",
    "page_set = 1\n",
    "cities_in_set = 0\n",
    "\n",
    "# Loop through the list of cities and perform a request for data on each\n",
    "for city in cities:\n",
    "    try:\n",
    "        response = requests.get(query_url+city).json()\n",
    "        # Change Set & reset the list of cities in set\n",
    "        if (cities_in_set % 50 == 0):\n",
    "            cities_in_set = 0\n",
    "            page_set += 1\n",
    "        print(f\"Processing Record {cities_in_set} of Set {page_set} | {city}\")\n",
    "        cities_data.append({\n",
    "            \"City\": city,\n",
    "            \"Lat\": response['coord']['lat'],\n",
    "            \"Lng\": response['coord']['lon'],\n",
    "            \"Max Temp\": response['main']['temp'],\n",
    "            \"Humidity\": response['main']['humidity'],\n",
    "            \"Cloudiness\": response['clouds']['all'],\n",
    "            \"Wind Speed\": response['wind']['speed'],\n",
    "            \"Country\": response['sys']['country'],\n",
    "            \"Date\": response['dt']\n",
    "            })\n",
    "    except:\n",
    "        print(\"City not found. Skipping...\")\n",
    "        pass\n",
    "    cities_in_set += 1\n",
    "\n",
    "# End Data Retrieval\n",
    "\n",
    "print(\"-----------------------------\")\n",
    "print(\"Data Retrieval Complete      \")\n",
    "print(\"-----------------------------\")"
   ]
  },
  {
   "cell_type": "markdown",
   "metadata": {},
   "source": [
    "### Convert Raw Data to DataFrame\n",
    "* Export the city data into a .csv.\n",
    "* Display the DataFrame"
   ]
  },
  {
   "cell_type": "code",
   "execution_count": 5,
   "metadata": {},
   "outputs": [
    {
     "data": {
      "text/html": [
       "<div>\n",
       "<style scoped>\n",
       "    .dataframe tbody tr th:only-of-type {\n",
       "        vertical-align: middle;\n",
       "    }\n",
       "\n",
       "    .dataframe tbody tr th {\n",
       "        vertical-align: top;\n",
       "    }\n",
       "\n",
       "    .dataframe thead th {\n",
       "        text-align: right;\n",
       "    }\n",
       "</style>\n",
       "<table border=\"1\" class=\"dataframe\">\n",
       "  <thead>\n",
       "    <tr style=\"text-align: right;\">\n",
       "      <th></th>\n",
       "      <th>City</th>\n",
       "      <th>Lat</th>\n",
       "      <th>Lng</th>\n",
       "      <th>Max Temp</th>\n",
       "      <th>Humidity</th>\n",
       "      <th>Cloudiness</th>\n",
       "      <th>Wind Speed</th>\n",
       "      <th>Country</th>\n",
       "      <th>Date</th>\n",
       "    </tr>\n",
       "  </thead>\n",
       "  <tbody>\n",
       "    <tr>\n",
       "      <th>0</th>\n",
       "      <td>bredasdorp</td>\n",
       "      <td>-34.5322</td>\n",
       "      <td>20.0403</td>\n",
       "      <td>69.80</td>\n",
       "      <td>83</td>\n",
       "      <td>59</td>\n",
       "      <td>6.91</td>\n",
       "      <td>ZA</td>\n",
       "      <td>1613193623</td>\n",
       "    </tr>\n",
       "    <tr>\n",
       "      <th>1</th>\n",
       "      <td>punta arenas</td>\n",
       "      <td>-53.1500</td>\n",
       "      <td>-70.9167</td>\n",
       "      <td>53.29</td>\n",
       "      <td>66</td>\n",
       "      <td>90</td>\n",
       "      <td>18.41</td>\n",
       "      <td>CL</td>\n",
       "      <td>1613193623</td>\n",
       "    </tr>\n",
       "    <tr>\n",
       "      <th>2</th>\n",
       "      <td>vao</td>\n",
       "      <td>-22.6667</td>\n",
       "      <td>167.4833</td>\n",
       "      <td>79.66</td>\n",
       "      <td>74</td>\n",
       "      <td>15</td>\n",
       "      <td>7.65</td>\n",
       "      <td>NC</td>\n",
       "      <td>1613193624</td>\n",
       "    </tr>\n",
       "    <tr>\n",
       "      <th>3</th>\n",
       "      <td>finschhafen</td>\n",
       "      <td>-6.6024</td>\n",
       "      <td>147.8681</td>\n",
       "      <td>85.42</td>\n",
       "      <td>70</td>\n",
       "      <td>85</td>\n",
       "      <td>8.01</td>\n",
       "      <td>PG</td>\n",
       "      <td>1613193624</td>\n",
       "    </tr>\n",
       "    <tr>\n",
       "      <th>4</th>\n",
       "      <td>arraial do cabo</td>\n",
       "      <td>-22.9661</td>\n",
       "      <td>-42.0278</td>\n",
       "      <td>75.58</td>\n",
       "      <td>88</td>\n",
       "      <td>100</td>\n",
       "      <td>13.91</td>\n",
       "      <td>BR</td>\n",
       "      <td>1613193625</td>\n",
       "    </tr>\n",
       "  </tbody>\n",
       "</table>\n",
       "</div>"
      ],
      "text/plain": [
       "              City      Lat       Lng  Max Temp  Humidity  Cloudiness  \\\n",
       "0       bredasdorp -34.5322   20.0403     69.80        83          59   \n",
       "1     punta arenas -53.1500  -70.9167     53.29        66          90   \n",
       "2              vao -22.6667  167.4833     79.66        74          15   \n",
       "3      finschhafen  -6.6024  147.8681     85.42        70          85   \n",
       "4  arraial do cabo -22.9661  -42.0278     75.58        88         100   \n",
       "\n",
       "   Wind Speed Country        Date  \n",
       "0        6.91      ZA  1613193623  \n",
       "1       18.41      CL  1613193623  \n",
       "2        7.65      NC  1613193624  \n",
       "3        8.01      PG  1613193624  \n",
       "4       13.91      BR  1613193625  "
      ]
     },
     "execution_count": 5,
     "metadata": {},
     "output_type": "execute_result"
    }
   ],
   "source": [
    "cities_data_pd = pd.DataFrame(cities_data)\n",
    "\n",
    "# Export the City_Data into a csv\n",
    "cities_data_pd.to_csv(output_data_file)\n",
    "\n",
    "# Show Record Count\n",
    "cities_data_pd.head()"
   ]
  },
  {
   "cell_type": "code",
   "execution_count": 6,
   "metadata": {},
   "outputs": [
    {
     "data": {
      "text/html": [
       "<div>\n",
       "<style scoped>\n",
       "    .dataframe tbody tr th:only-of-type {\n",
       "        vertical-align: middle;\n",
       "    }\n",
       "\n",
       "    .dataframe tbody tr th {\n",
       "        vertical-align: top;\n",
       "    }\n",
       "\n",
       "    .dataframe thead th {\n",
       "        text-align: right;\n",
       "    }\n",
       "</style>\n",
       "<table border=\"1\" class=\"dataframe\">\n",
       "  <thead>\n",
       "    <tr style=\"text-align: right;\">\n",
       "      <th></th>\n",
       "      <th>Lat</th>\n",
       "      <th>Lng</th>\n",
       "      <th>Max Temp</th>\n",
       "      <th>Humidity</th>\n",
       "      <th>Cloudiness</th>\n",
       "      <th>Wind Speed</th>\n",
       "      <th>Date</th>\n",
       "    </tr>\n",
       "  </thead>\n",
       "  <tbody>\n",
       "    <tr>\n",
       "      <th>count</th>\n",
       "      <td>553.000000</td>\n",
       "      <td>553.000000</td>\n",
       "      <td>553.000000</td>\n",
       "      <td>553.000000</td>\n",
       "      <td>553.000000</td>\n",
       "      <td>553.000000</td>\n",
       "      <td>5.530000e+02</td>\n",
       "    </tr>\n",
       "    <tr>\n",
       "      <th>mean</th>\n",
       "      <td>19.280897</td>\n",
       "      <td>13.335119</td>\n",
       "      <td>48.744973</td>\n",
       "      <td>74.560579</td>\n",
       "      <td>51.839060</td>\n",
       "      <td>7.826383</td>\n",
       "      <td>1.613194e+09</td>\n",
       "    </tr>\n",
       "    <tr>\n",
       "      <th>std</th>\n",
       "      <td>33.818939</td>\n",
       "      <td>91.191877</td>\n",
       "      <td>33.162948</td>\n",
       "      <td>18.866245</td>\n",
       "      <td>39.737469</td>\n",
       "      <td>5.942867</td>\n",
       "      <td>8.623403e+01</td>\n",
       "    </tr>\n",
       "    <tr>\n",
       "      <th>min</th>\n",
       "      <td>-54.800000</td>\n",
       "      <td>-175.200000</td>\n",
       "      <td>-38.200000</td>\n",
       "      <td>16.000000</td>\n",
       "      <td>0.000000</td>\n",
       "      <td>0.130000</td>\n",
       "      <td>1.613193e+09</td>\n",
       "    </tr>\n",
       "    <tr>\n",
       "      <th>25%</th>\n",
       "      <td>-9.106100</td>\n",
       "      <td>-68.514500</td>\n",
       "      <td>25.030000</td>\n",
       "      <td>67.000000</td>\n",
       "      <td>4.000000</td>\n",
       "      <td>3.580000</td>\n",
       "      <td>1.613194e+09</td>\n",
       "    </tr>\n",
       "    <tr>\n",
       "      <th>50%</th>\n",
       "      <td>21.461200</td>\n",
       "      <td>17.944200</td>\n",
       "      <td>61.540000</td>\n",
       "      <td>78.000000</td>\n",
       "      <td>59.000000</td>\n",
       "      <td>5.990000</td>\n",
       "      <td>1.613194e+09</td>\n",
       "    </tr>\n",
       "    <tr>\n",
       "      <th>75%</th>\n",
       "      <td>48.649900</td>\n",
       "      <td>92.050000</td>\n",
       "      <td>75.200000</td>\n",
       "      <td>88.000000</td>\n",
       "      <td>90.000000</td>\n",
       "      <td>10.360000</td>\n",
       "      <td>1.613194e+09</td>\n",
       "    </tr>\n",
       "    <tr>\n",
       "      <th>max</th>\n",
       "      <td>78.218600</td>\n",
       "      <td>178.416700</td>\n",
       "      <td>98.600000</td>\n",
       "      <td>100.000000</td>\n",
       "      <td>100.000000</td>\n",
       "      <td>41.430000</td>\n",
       "      <td>1.613194e+09</td>\n",
       "    </tr>\n",
       "  </tbody>\n",
       "</table>\n",
       "</div>"
      ],
      "text/plain": [
       "              Lat         Lng    Max Temp    Humidity  Cloudiness  Wind Speed  \\\n",
       "count  553.000000  553.000000  553.000000  553.000000  553.000000  553.000000   \n",
       "mean    19.280897   13.335119   48.744973   74.560579   51.839060    7.826383   \n",
       "std     33.818939   91.191877   33.162948   18.866245   39.737469    5.942867   \n",
       "min    -54.800000 -175.200000  -38.200000   16.000000    0.000000    0.130000   \n",
       "25%     -9.106100  -68.514500   25.030000   67.000000    4.000000    3.580000   \n",
       "50%     21.461200   17.944200   61.540000   78.000000   59.000000    5.990000   \n",
       "75%     48.649900   92.050000   75.200000   88.000000   90.000000   10.360000   \n",
       "max     78.218600  178.416700   98.600000  100.000000  100.000000   41.430000   \n",
       "\n",
       "               Date  \n",
       "count  5.530000e+02  \n",
       "mean   1.613194e+09  \n",
       "std    8.623403e+01  \n",
       "min    1.613193e+09  \n",
       "25%    1.613194e+09  \n",
       "50%    1.613194e+09  \n",
       "75%    1.613194e+09  \n",
       "max    1.613194e+09  "
      ]
     },
     "execution_count": 6,
     "metadata": {},
     "output_type": "execute_result"
    }
   ],
   "source": [
    "cities_data_pd.describe()"
   ]
  },
  {
   "cell_type": "markdown",
   "metadata": {},
   "source": [
    "## Inspect the data and remove the cities where the humidity > 100%.\n",
    "----\n",
    "Skip this step if there are no cities that have humidity > 100%. "
   ]
  },
  {
   "cell_type": "code",
   "execution_count": 7,
   "metadata": {},
   "outputs": [
    {
     "data": {
      "text/plain": [
       "100"
      ]
     },
     "execution_count": 7,
     "metadata": {},
     "output_type": "execute_result"
    }
   ],
   "source": [
    "hum_max = cities_data_pd['Humidity'].max()\n",
    "hum_max"
   ]
  },
  {
   "cell_type": "code",
   "execution_count": 8,
   "metadata": {},
   "outputs": [
    {
     "data": {
      "text/html": [
       "<div>\n",
       "<style scoped>\n",
       "    .dataframe tbody tr th:only-of-type {\n",
       "        vertical-align: middle;\n",
       "    }\n",
       "\n",
       "    .dataframe tbody tr th {\n",
       "        vertical-align: top;\n",
       "    }\n",
       "\n",
       "    .dataframe thead th {\n",
       "        text-align: right;\n",
       "    }\n",
       "</style>\n",
       "<table border=\"1\" class=\"dataframe\">\n",
       "  <thead>\n",
       "    <tr style=\"text-align: right;\">\n",
       "      <th></th>\n",
       "      <th>City</th>\n",
       "      <th>Lat</th>\n",
       "      <th>Lng</th>\n",
       "      <th>Max Temp</th>\n",
       "      <th>Humidity</th>\n",
       "      <th>Cloudiness</th>\n",
       "      <th>Wind Speed</th>\n",
       "      <th>Country</th>\n",
       "      <th>Date</th>\n",
       "    </tr>\n",
       "  </thead>\n",
       "  <tbody>\n",
       "  </tbody>\n",
       "</table>\n",
       "</div>"
      ],
      "text/plain": [
       "Empty DataFrame\n",
       "Columns: [City, Lat, Lng, Max Temp, Humidity, Cloudiness, Wind Speed, Country, Date]\n",
       "Index: []"
      ]
     },
     "execution_count": 8,
     "metadata": {},
     "output_type": "execute_result"
    }
   ],
   "source": [
    "#  Get the indices of cities that have humidity over 100%.\n",
    "hum_over_100 = cities_data_pd.loc[cities_data_pd['Humidity']>100, :] \n",
    "hum_over_100.head()"
   ]
  },
  {
   "cell_type": "code",
   "execution_count": 9,
   "metadata": {},
   "outputs": [],
   "source": [
    "# Make a new DataFrame equal to the city data to drop all humidity outliers by index.\n",
    "# Passing \"inplace=False\" will make a copy of the city_data DataFrame, which we call \"clean_city_data\".\n",
    "clean_city_data = cities_data_pd"
   ]
  },
  {
   "cell_type": "code",
   "execution_count": null,
   "metadata": {},
   "outputs": [],
   "source": [
    "\n"
   ]
  },
  {
   "cell_type": "markdown",
   "metadata": {},
   "source": [
    "## Plotting the Data\n",
    "* Use proper labeling of the plots using plot titles (including date of analysis) and axes labels.\n",
    "* Save the plotted figures as .pngs."
   ]
  },
  {
   "cell_type": "markdown",
   "metadata": {},
   "source": [
    "## Latitude vs. Temperature Plot"
   ]
  },
  {
   "cell_type": "code",
   "execution_count": 10,
   "metadata": {
    "scrolled": true
   },
   "outputs": [
    {
     "data": {
      "image/png": "[encoded data removed]",
      "text/plain": [
       "<Figure size 432x288 with 1 Axes>"
      ]
     },
     "metadata": {
      "needs_background": "light"
     },
     "output_type": "display_data"
    }
   ],
   "source": [
    "plt.scatter(cities_data_pd[\"Lat\"], cities_data_pd[\"Max Temp\"], marker=\"o\", alpha=0.8, edgecolors=\"black\")\n",
    "plt.title(\"City Latitude vs. Max Temperature \" + time.strftime(\"%x\"))\n",
    "plt.xlabel(\"Latitude\")\n",
    "plt.ylabel(\"Max Temperature (F)\")\n",
    "plt.grid(True)\n",
    "\n",
    "# Save plot\n",
    "plt.savefig(\"City Latitude vs. Max Temperature.png\")\n",
    "\n",
    "# Show plot\n",
    "plt.show()"
   ]
  },
  {
   "cell_type": "markdown",
   "metadata": {},
   "source": [
    "### ANALYSIS PLOT 1: Latitude vs. Temperature \n",
    "- The cities near to the Ecuator (Latitude 0) have warm temperature between 60 to over 80 (F).\n",
    "- For this time of the year (February) we see that the southern hemisphere also has a warm temperature as it is summer season."
   ]
  },
  {
   "cell_type": "markdown",
   "metadata": {},
   "source": [
    "## Latitude vs. Humidity Plot"
   ]
  },
  {
   "cell_type": "code",
   "execution_count": 11,
   "metadata": {
    "scrolled": true
   },
   "outputs": [
    {
     "data": {
      "image/png": "[encoded data removed]",
      "text/plain": [
       "<Figure size 432x288 with 1 Axes>"
      ]
     },
     "metadata": {
      "needs_background": "light"
     },
     "output_type": "display_data"
    }
   ],
   "source": [
    "plt.scatter(cities_data_pd[\"Lat\"], cities_data_pd[\"Humidity\"], marker=\"o\", alpha=0.8, edgecolors=\"black\")\n",
    "plt.title(\"City Latitude vs. Humidity \" + time.strftime(\"%x\"))\n",
    "plt.xlabel(\"Latitude\")\n",
    "plt.ylabel(\"Humidity (%)\")\n",
    "plt.grid(True)\n",
    "\n",
    "# Save plot\n",
    "plt.savefig(\"City Latitude vs. Humidity.png\")\n",
    "\n",
    "# Show plot\n",
    "plt.show()"
   ]
  },
  {
   "cell_type": "markdown",
   "metadata": {},
   "source": [
    "### ANALYSIS PLOT 2: Latitude vs. Humidity\n",
    "- As of February, this plot suggest that there is more humidity in the cities at the north hemisphere between latitude 60-80."
   ]
  },
  {
   "cell_type": "markdown",
   "metadata": {},
   "source": [
    "## Latitude vs. Cloudiness Plot"
   ]
  },
  {
   "cell_type": "code",
   "execution_count": 12,
   "metadata": {},
   "outputs": [
    {
     "data": {
      "image/png": "[encoded data removed]",
      "text/plain": [
       "<Figure size 432x288 with 1 Axes>"
      ]
     },
     "metadata": {
      "needs_background": "light"
     },
     "output_type": "display_data"
    }
   ],
   "source": [
    "plt.scatter(cities_data_pd[\"Lat\"], cities_data_pd[\"Cloudiness\"], marker=\"o\", alpha=0.8, edgecolors=\"black\")\n",
    "plt.title(\"City Latitude vs. Cloudiness \" + time.strftime(\"%x\"))\n",
    "plt.xlabel(\"Latitude\")\n",
    "plt.ylabel(\"Cloudiness (%)\")\n",
    "plt.grid(True)\n",
    "\n",
    "# Save plot\n",
    "plt.savefig(\"City Latitude vs. Cloudiness.png\")\n",
    "\n",
    "# Show plot\n",
    "plt.show()"
   ]
  },
  {
   "cell_type": "markdown",
   "metadata": {},
   "source": [
    "### ANALYSIS PLOT 3: Latitude vs. Cloudiness\n",
    "- As of February, there is no clear relation between latitude and clouds."
   ]
  },
  {
   "cell_type": "markdown",
   "metadata": {},
   "source": [
    "## Latitude vs. Wind Speed Plot"
   ]
  },
  {
   "cell_type": "code",
   "execution_count": 13,
   "metadata": {},
   "outputs": [
    {
     "data": {
      "image/png": "[encoded data removed]",
      "text/plain": [
       "<Figure size 432x288 with 1 Axes>"
      ]
     },
     "metadata": {
      "needs_background": "light"
     },
     "output_type": "display_data"
    }
   ],
   "source": [
    "plt.scatter(cities_data_pd[\"Lat\"], cities_data_pd[\"Wind Speed\"], marker=\"o\", alpha=0.8, edgecolors=\"black\")\n",
    "plt.title(\"City Latitude vs. Wind Speed \" + time.strftime(\"%x\"))\n",
    "plt.xlabel(\"Latitude\")\n",
    "plt.ylabel(\"Wind Speed (mph)\")\n",
    "plt.grid(True)\n",
    "\n",
    "# Save plot\n",
    "plt.savefig(\"City Latitude vs. Wind Speed.png\")\n",
    "\n",
    "# Show plot\n",
    "plt.show()"
   ]
  },
  {
   "cell_type": "markdown",
   "metadata": {},
   "source": [
    "### ANALYSIS PLOT 4: Latitude vs. Wind Spreed\n",
    "- As of February, this plot suggest that strongest winds happen in the cities at the north hemisphere between latitude 40-80."
   ]
  },
  {
   "cell_type": "markdown",
   "metadata": {},
   "source": [
    "## Linear Regression"
   ]
  },
  {
   "cell_type": "code",
   "execution_count": 14,
   "metadata": {},
   "outputs": [
    {
     "data": {
      "text/html": [
       "<div>\n",
       "<style scoped>\n",
       "    .dataframe tbody tr th:only-of-type {\n",
       "        vertical-align: middle;\n",
       "    }\n",
       "\n",
       "    .dataframe tbody tr th {\n",
       "        vertical-align: top;\n",
       "    }\n",
       "\n",
       "    .dataframe thead th {\n",
       "        text-align: right;\n",
       "    }\n",
       "</style>\n",
       "<table border=\"1\" class=\"dataframe\">\n",
       "  <thead>\n",
       "    <tr style=\"text-align: right;\">\n",
       "      <th></th>\n",
       "      <th>City</th>\n",
       "      <th>Lat</th>\n",
       "      <th>Lng</th>\n",
       "      <th>Max Temp</th>\n",
       "      <th>Humidity</th>\n",
       "      <th>Cloudiness</th>\n",
       "      <th>Wind Speed</th>\n",
       "      <th>Country</th>\n",
       "      <th>Date</th>\n",
       "    </tr>\n",
       "  </thead>\n",
       "  <tbody>\n",
       "    <tr>\n",
       "      <th>0</th>\n",
       "      <td>bredasdorp</td>\n",
       "      <td>-34.5322</td>\n",
       "      <td>20.0403</td>\n",
       "      <td>69.80</td>\n",
       "      <td>83</td>\n",
       "      <td>59</td>\n",
       "      <td>6.91</td>\n",
       "      <td>ZA</td>\n",
       "      <td>1613193623</td>\n",
       "    </tr>\n",
       "    <tr>\n",
       "      <th>1</th>\n",
       "      <td>punta arenas</td>\n",
       "      <td>-53.1500</td>\n",
       "      <td>-70.9167</td>\n",
       "      <td>53.29</td>\n",
       "      <td>66</td>\n",
       "      <td>90</td>\n",
       "      <td>18.41</td>\n",
       "      <td>CL</td>\n",
       "      <td>1613193623</td>\n",
       "    </tr>\n",
       "    <tr>\n",
       "      <th>2</th>\n",
       "      <td>vao</td>\n",
       "      <td>-22.6667</td>\n",
       "      <td>167.4833</td>\n",
       "      <td>79.66</td>\n",
       "      <td>74</td>\n",
       "      <td>15</td>\n",
       "      <td>7.65</td>\n",
       "      <td>NC</td>\n",
       "      <td>1613193624</td>\n",
       "    </tr>\n",
       "    <tr>\n",
       "      <th>3</th>\n",
       "      <td>finschhafen</td>\n",
       "      <td>-6.6024</td>\n",
       "      <td>147.8681</td>\n",
       "      <td>85.42</td>\n",
       "      <td>70</td>\n",
       "      <td>85</td>\n",
       "      <td>8.01</td>\n",
       "      <td>PG</td>\n",
       "      <td>1613193624</td>\n",
       "    </tr>\n",
       "    <tr>\n",
       "      <th>4</th>\n",
       "      <td>arraial do cabo</td>\n",
       "      <td>-22.9661</td>\n",
       "      <td>-42.0278</td>\n",
       "      <td>75.58</td>\n",
       "      <td>88</td>\n",
       "      <td>100</td>\n",
       "      <td>13.91</td>\n",
       "      <td>BR</td>\n",
       "      <td>1613193625</td>\n",
       "    </tr>\n",
       "  </tbody>\n",
       "</table>\n",
       "</div>"
      ],
      "text/plain": [
       "              City      Lat       Lng  Max Temp  Humidity  Cloudiness  \\\n",
       "0       bredasdorp -34.5322   20.0403     69.80        83          59   \n",
       "1     punta arenas -53.1500  -70.9167     53.29        66          90   \n",
       "2              vao -22.6667  167.4833     79.66        74          15   \n",
       "3      finschhafen  -6.6024  147.8681     85.42        70          85   \n",
       "4  arraial do cabo -22.9661  -42.0278     75.58        88         100   \n",
       "\n",
       "   Wind Speed Country        Date  \n",
       "0        6.91      ZA  1613193623  \n",
       "1       18.41      CL  1613193623  \n",
       "2        7.65      NC  1613193624  \n",
       "3        8.01      PG  1613193624  \n",
       "4       13.91      BR  1613193625  "
      ]
     },
     "execution_count": 14,
     "metadata": {},
     "output_type": "execute_result"
    }
   ],
   "source": [
    "# Create datasets for hemisphere (latitude >= 0 belongs to Northern, latitude < 0 belongs to Southern\n",
    "northern_df = cities_data_pd.loc[cities_data_pd['Lat'] >= 0, :] \n",
    "southern_df = cities_data_pd.loc[cities_data_pd['Lat'] < 0, :]\n",
    "southern_df.head()"
   ]
  },
  {
   "cell_type": "markdown",
   "metadata": {},
   "source": [
    "####  Northern Hemisphere - Max Temp vs. Latitude Linear Regression"
   ]
  },
  {
   "cell_type": "code",
   "execution_count": 28,
   "metadata": {},
   "outputs": [
    {
     "name": "stdout",
     "output_type": "stream",
     "text": [
      "The r-value is: 0.7702752373244363\n"
     ]
    },
    {
     "data": {
      "image/png": "[encoded data removed]",
      "text/plain": [
       "<Figure size 432x288 with 1 Axes>"
      ]
     },
     "metadata": {
      "needs_background": "light"
     },
     "output_type": "display_data"
    }
   ],
   "source": [
    "n_x_values = northern_df['Lat']\n",
    "n_y_values = northern_df['Max Temp']\n",
    "\n",
    "# Perform a linear regression on temperature vs. latitude\n",
    "(slope, intercept, rvalue, pvalue, stderr) = stats.linregress(n_x_values, n_y_values)\n",
    "\n",
    "# Get regression values\n",
    "regress_values = n_x_values * slope + intercept\n",
    "line_eq = \"y = \" + str(round(slope,2)) + \"x +\" + str(round(intercept,2))\n",
    "# Create Plot\n",
    "plt.scatter(n_x_values,n_y_values)\n",
    "plt.plot(n_x_values,regress_values,\"r-\")\n",
    "\n",
    "# Label plot and annotate the line equation\n",
    "plt.xlabel('Latitude')\n",
    "plt.ylabel('Max Temp')\n",
    "plt.annotate(line_eq,(5,-35),fontsize=15,color=\"red\")\n",
    "\n",
    "# Print r value\n",
    "print(f\"The r-value is: {rvalue**2}\")\n",
    "\n",
    "# Show plot\n",
    "plt.show()"
   ]
  },
  {
   "cell_type": "markdown",
   "metadata": {},
   "source": [
    "####  Southern Hemisphere - Max Temp vs. Latitude Linear Regression"
   ]
  },
  {
   "cell_type": "code",
   "execution_count": 29,
   "metadata": {},
   "outputs": [
    {
     "name": "stdout",
     "output_type": "stream",
     "text": [
      "The r-value is: 0.30896566568393447\n"
     ]
    },
    {
     "data": {
      "image/png": "[encoded data removed]",
      "text/plain": [
       "<Figure size 432x288 with 1 Axes>"
      ]
     },
     "metadata": {
      "needs_background": "light"
     },
     "output_type": "display_data"
    }
   ],
   "source": [
    "s_x_values = southern_df['Lat']\n",
    "s_y_values = southern_df['Max Temp']\n",
    "\n",
    "# Perform a linear regression on temperature vs. latitude\n",
    "(slope, intercept, rvalue, pvalue, stderr) = stats.linregress(s_x_values, s_y_values)\n",
    "\n",
    "# Get regression values\n",
    "regress_values = s_x_values * slope + intercept\n",
    "line_eq = \"y = \" + str(round(slope,2)) + \"x +\" + str(round(intercept,2))\n",
    "# Create Plot\n",
    "plt.scatter(s_x_values,s_y_values)\n",
    "plt.plot(s_x_values,regress_values,\"r-\")\n",
    "\n",
    "# Label plot and annotate the line equation\n",
    "plt.xlabel('Latitude')\n",
    "plt.ylabel('Max Temp')\n",
    "plt.annotate(line_eq, (-55,95),fontsize=15,color=\"red\")\n",
    "\n",
    "# Print r value\n",
    "print(f\"The r-value is: {rvalue**2}\")\n",
    "\n",
    "# Show plot\n",
    "plt.show()"
   ]
  },
  {
   "cell_type": "markdown",
   "metadata": {},
   "source": [
    "### ANALYSIS PLOTS 1 - 2: Latitude vs. Max Temp (%)\n",
    "- The regression line in the norther hemisphere predict low temperature as we go north in the hemisphere due to the winter season.\n",
    "- On the contrary, the southern hemisphere predict high temperature having a minimum of 60°F due to the summer season."
   ]
  },
  {
   "cell_type": "markdown",
   "metadata": {},
   "source": [
    "####  Northern Hemisphere - Humidity (%) vs. Latitude Linear Regression"
   ]
  },
  {
   "cell_type": "code",
   "execution_count": 31,
   "metadata": {},
   "outputs": [
    {
     "name": "stdout",
     "output_type": "stream",
     "text": [
      "The r-value is: 0.08549984592219073\n"
     ]
    },
    {
     "data": {
      "image/png": "[encoded data removed]",
      "text/plain": [
       "<Figure size 432x288 with 1 Axes>"
      ]
     },
     "metadata": {
      "needs_background": "light"
     },
     "output_type": "display_data"
    }
   ],
   "source": [
    "n_x_values = northern_df['Lat']\n",
    "n_y_values = northern_df['Humidity']\n",
    "\n",
    "# Perform a linear regression on temperature vs. latitude\n",
    "(slope, intercept, rvalue, pvalue, stderr) = stats.linregress(n_x_values, n_y_values)\n",
    "\n",
    "# Get regression values\n",
    "regress_values = n_x_values * slope + intercept\n",
    "line_eq = \"y = \" + str(round(slope,2)) + \"x +\" + str(round(intercept,2))\n",
    "# Create Plot\n",
    "plt.scatter(n_x_values,n_y_values)\n",
    "plt.plot(n_x_values,regress_values,\"r-\")\n",
    "\n",
    "# Label plot and annotate the line equation\n",
    "plt.xlabel('Latitude')\n",
    "plt.ylabel('Humidity')\n",
    "plt.annotate(line_eq,(40,20),fontsize=15,color=\"red\")\n",
    "\n",
    "# Print r value\n",
    "print(f\"The r-value is: {rvalue**2}\")\n",
    "\n",
    "# Show plot\n",
    "plt.show()"
   ]
  },
  {
   "cell_type": "markdown",
   "metadata": {},
   "source": [
    "####  Southern Hemisphere - Humidity (%) vs. Latitude Linear Regression"
   ]
  },
  {
   "cell_type": "code",
   "execution_count": 33,
   "metadata": {},
   "outputs": [
    {
     "name": "stdout",
     "output_type": "stream",
     "text": [
      "The r-value is: 0.047108321929065465\n"
     ]
    },
    {
     "data": {
      "image/png": "[encoded data removed]",
      "text/plain": [
       "<Figure size 432x288 with 1 Axes>"
      ]
     },
     "metadata": {
      "needs_background": "light"
     },
     "output_type": "display_data"
    }
   ],
   "source": [
    "s_x_values = southern_df['Lat']\n",
    "s_y_values = southern_df['Humidity']\n",
    "\n",
    "# Perform a linear regression on temperature vs. latitude\n",
    "(slope, intercept, rvalue, pvalue, stderr) = stats.linregress(s_x_values, s_y_values)\n",
    "\n",
    "# Get regression values\n",
    "regress_values = s_x_values * slope + intercept\n",
    "line_eq = \"y = \" + str(round(slope,2)) + \"x +\" + str(round(intercept,2))\n",
    "# Create Plot\n",
    "plt.scatter(s_x_values,s_y_values)\n",
    "plt.plot(s_x_values,regress_values,\"r-\")\n",
    "\n",
    "# Label plot and annotate the line equation\n",
    "plt.xlabel('Latitude')\n",
    "plt.ylabel('Humidity')\n",
    "plt.annotate(line_eq, (-55,30),fontsize=15,color=\"red\")\n",
    "\n",
    "# Print r value\n",
    "print(f\"The r-value is: {rvalue**2}\")\n",
    "\n",
    "# Show plot\n",
    "plt.show()"
   ]
  },
  {
   "cell_type": "markdown",
   "metadata": {},
   "source": [
    "### ANALYSIS PLOTS 3 - 4: Latitude vs. Humidity (%)\n",
    "- The regression line in both hemisphere predict a high humidity value as we go north in the hemisphere."
   ]
  },
  {
   "cell_type": "markdown",
   "metadata": {},
   "source": [
    "####  Northern Hemisphere - Cloudiness (%) vs. Latitude Linear Regression"
   ]
  },
  {
   "cell_type": "code",
   "execution_count": 35,
   "metadata": {},
   "outputs": [
    {
     "name": "stdout",
     "output_type": "stream",
     "text": [
      "The r-value is: 0.12627106016236475\n"
     ]
    },
    {
     "data": {
      "image/png": "[encoded data removed]",
      "text/plain": [
       "<Figure size 432x288 with 1 Axes>"
      ]
     },
     "metadata": {
      "needs_background": "light"
     },
     "output_type": "display_data"
    }
   ],
   "source": [
    "n_x_values = northern_df['Lat']\n",
    "n_y_values = northern_df['Cloudiness']\n",
    "\n",
    "# Perform a linear regression on temperature vs. latitude\n",
    "(slope, intercept, rvalue, pvalue, stderr) = stats.linregress(n_x_values, n_y_values)\n",
    "\n",
    "# Get regression values\n",
    "regress_values = n_x_values * slope + intercept\n",
    "line_eq = \"y = \" + str(round(slope,2)) + \"x +\" + str(round(intercept,2))\n",
    "# Create Plot\n",
    "plt.scatter(n_x_values,n_y_values)\n",
    "plt.plot(n_x_values,regress_values,\"r-\")\n",
    "\n",
    "# Label plot and annotate the line equation\n",
    "plt.xlabel('Latitude')\n",
    "plt.ylabel('Cloudiness')\n",
    "plt.annotate(line_eq,(40,15),fontsize=15,color=\"red\")\n",
    "\n",
    "# Print r value\n",
    "print(f\"The r-value is: {rvalue**2}\")\n",
    "\n",
    "# Show plot\n",
    "plt.show()"
   ]
  },
  {
   "cell_type": "markdown",
   "metadata": {},
   "source": [
    "####  Southern Hemisphere - Cloudiness (%) vs. Latitude Linear Regression"
   ]
  },
  {
   "cell_type": "code",
   "execution_count": 37,
   "metadata": {},
   "outputs": [
    {
     "name": "stdout",
     "output_type": "stream",
     "text": [
      "The r-value is: 0.06562116281506579\n"
     ]
    },
    {
     "data": {
      "image/png": "[encoded data removed]",
      "text/plain": [
       "<Figure size 432x288 with 1 Axes>"
      ]
     },
     "metadata": {
      "needs_background": "light"
     },
     "output_type": "display_data"
    }
   ],
   "source": [
    "s_x_values = southern_df['Lat']\n",
    "s_y_values = southern_df['Cloudiness']\n",
    "\n",
    "# Perform a linear regression on temperature vs. latitude\n",
    "(slope, intercept, rvalue, pvalue, stderr) = stats.linregress(s_x_values, s_y_values)\n",
    "\n",
    "# Get regression values\n",
    "regress_values = s_x_values * slope + intercept\n",
    "line_eq = \"y = \" + str(round(slope,2)) + \"x +\" + str(round(intercept,2))\n",
    "# Create Plot\n",
    "plt.scatter(s_x_values,s_y_values)\n",
    "plt.plot(s_x_values,regress_values,\"r-\")\n",
    "\n",
    "# Label plot and annotate the line equation\n",
    "plt.xlabel('Latitude')\n",
    "plt.ylabel('Cloudiness')\n",
    "plt.annotate(line_eq, (-55,18),fontsize=15,color=\"red\")\n",
    "\n",
    "# Print r value\n",
    "print(f\"The r-value is: {rvalue**2}\")\n",
    "\n",
    "# Show plot\n",
    "plt.show()"
   ]
  },
  {
   "cell_type": "markdown",
   "metadata": {},
   "source": [
    "### ANALYSIS PLOTS 5 - 6: Latitude vs. Cloudiness (%)\n",
    "- The regression line shown in both hemispheres shows a tendency to predict a high cloudiness value as we go north."
   ]
  },
  {
   "cell_type": "markdown",
   "metadata": {},
   "source": [
    "####  Northern Hemisphere - Wind Speed (mph) vs. Latitude Linear Regression"
   ]
  },
  {
   "cell_type": "code",
   "execution_count": 39,
   "metadata": {},
   "outputs": [
    {
     "name": "stdout",
     "output_type": "stream",
     "text": [
      "The r-value is: 0.020500642545605265\n"
     ]
    },
    {
     "data": {
      "image/png": "[encoded data removed]",
      "text/plain": [
       "<Figure size 432x288 with 1 Axes>"
      ]
     },
     "metadata": {
      "needs_background": "light"
     },
     "output_type": "display_data"
    }
   ],
   "source": [
    "n_x_values = northern_df['Lat']\n",
    "n_y_values = northern_df['Wind Speed']\n",
    "\n",
    "# Perform a linear regression on temperature vs. latitude\n",
    "(slope, intercept, rvalue, pvalue, stderr) = stats.linregress(n_x_values, n_y_values)\n",
    "\n",
    "# Get regression values\n",
    "regress_values = n_x_values * slope + intercept\n",
    "line_eq = \"y = \" + str(round(slope,2)) + \"x +\" + str(round(intercept,2))\n",
    "# Create Plot\n",
    "plt.scatter(n_x_values,n_y_values)\n",
    "plt.plot(n_x_values,regress_values,\"r-\")\n",
    "\n",
    "# Label plot and annotate the line equation\n",
    "plt.xlabel('Latitude')\n",
    "plt.ylabel('Wind Speed')\n",
    "plt.annotate(line_eq,(5,35),fontsize=15,color=\"red\")\n",
    "\n",
    "# Print r value\n",
    "print(f\"The r-value is: {rvalue**2}\")\n",
    "\n",
    "# Show plot\n",
    "plt.show()"
   ]
  },
  {
   "cell_type": "markdown",
   "metadata": {},
   "source": [
    "####  Southern Hemisphere - Wind Speed (mph) vs. Latitude Linear Regression"
   ]
  },
  {
   "cell_type": "code",
   "execution_count": 42,
   "metadata": {},
   "outputs": [
    {
     "name": "stdout",
     "output_type": "stream",
     "text": [
      "The r-value is: 0.014550669411741457\n"
     ]
    },
    {
     "data": {
      "image/png": "[encoded data removed]",
      "text/plain": [
       "<Figure size 432x288 with 1 Axes>"
      ]
     },
     "metadata": {
      "needs_background": "light"
     },
     "output_type": "display_data"
    }
   ],
   "source": [
    "s_x_values = southern_df['Lat']\n",
    "s_y_values = southern_df['Wind Speed']\n",
    "\n",
    "# Perform a linear regression on temperature vs. latitude\n",
    "(slope, intercept, rvalue, pvalue, stderr) = stats.linregress(s_x_values, s_y_values)\n",
    "\n",
    "# Get regression values\n",
    "regress_values = s_x_values * slope + intercept\n",
    "line_eq = \"y = \" + str(round(slope,2)) + \"x +\" + str(round(intercept,2))\n",
    "# Create Plot\n",
    "plt.scatter(s_x_values,s_y_values)\n",
    "plt.plot(s_x_values,regress_values,\"r-\")\n",
    "\n",
    "# Label plot and annotate the line equation\n",
    "plt.xlabel('Latitude')\n",
    "plt.ylabel('Wind Speed')\n",
    "plt.annotate(line_eq, (-50,26),fontsize=15,color=\"red\")\n",
    "\n",
    "# Print r value\n",
    "print(f\"The r-value is: {rvalue**2}\")\n",
    "\n",
    "# Show plot\n",
    "plt.show()"
   ]
  },
  {
   "cell_type": "markdown",
   "metadata": {},
   "source": [
    "### ANALYSIS PLOTS 7 - 8: Latitude vs. Wind Spreed\n",
    "- As of February, the cities at the northern hemisphere have strongest winds reaching a maximum wind speed over 40 (mph)\n",
    "- Most of the cities in the southern hemisphere have wind speed around 10 (mph) and the regression line predict a wind speed below 10 (mph)"
   ]
  },
  {
   "cell_type": "markdown",
   "metadata": {},
   "source": [
    "### As a bonus, try to create a function that will create these charts based on different parameters."
   ]
  },
  {
   "cell_type": "code",
   "execution_count": 97,
   "metadata": {},
   "outputs": [],
   "source": [
    "# BONUS\n",
    "\n",
    "def hemisphere_func(hemisphere_df, hname):\n",
    "    \"\"\"Function that takes an the hemisphere name & dataframe and save 4 linear regression plots\"\"\"\n",
    "    \n",
    "    y_var_list = [\"Max Temp\", \"Humidity\", \"Cloudiness\", \"Wind Speed\"]\n",
    "    \n",
    "    for y_var in y_var_list:\n",
    "        x_values = hemisphere_df['Lat']\n",
    "        y_values = hemisphere_df[y_var]\n",
    "        \n",
    "        # Perform a linear regression on temperature vs. latitude\n",
    "        (slope, intercept, rvalue, pvalue, stderr) = stats.linregress(x_values, y_values)\n",
    "        \n",
    "        # Get regression values\n",
    "        regress_values = x_values * slope + intercept\n",
    "        line_eq = \"y = \" + str(round(slope,2)) + \"x +\" + str(round(intercept,2))\n",
    "        \n",
    "        # Create Plot\n",
    "        plt.scatter(x_values,y_values)\n",
    "        plt.plot(x_values,regress_values,\"r-\")\n",
    "\n",
    "        # Label plot and annotate the line equation\n",
    "        plt.title(\"City Latitude vs. \" + y_var + \" \" + time.strftime(\"%x\"))\n",
    "        plt.xlabel('Latitude')\n",
    "        plt.ylabel(y_var)\n",
    "        plt.grid(True)\n",
    "        plt.annotate(line_eq, fontsize=10, color=\"red\", xy=(.025, .975), xycoords='figure fraction', horizontalalignment='left', verticalalignment='top')\n",
    "\n",
    "        # Print r value\n",
    "        message = (f\"The r-value is: {rvalue**2}\")\n",
    "        filename = (f\"{hname}_{y_var}.jpg\")\n",
    "        plt.savefig(filename, dpi=300, bbox_inches='tight')\n",
    "        plt.close()"
   ]
  },
  {
   "cell_type": "code",
   "execution_count": 98,
   "metadata": {},
   "outputs": [],
   "source": [
    "hemisphere_func(southern_df, 'south')"
   ]
  },
  {
   "cell_type": "code",
   "execution_count": 99,
   "metadata": {},
   "outputs": [],
   "source": [
    "hemisphere_func(northern_df, 'north')"
   ]
  },
  {
   "cell_type": "code",
   "execution_count": null,
   "metadata": {},
   "outputs": [],
   "source": []
  }
 ],
 "metadata": {
  "anaconda-cloud": {},
  "kernel_info": {
   "name": "python3"
  },
  "kernelspec": {
   "display_name": "Python 3",
   "language": "python",
   "name": "python3"
  },
  "language_info": {
   "codemirror_mode": {
    "name": "ipython",
    "version": 3
   },
   "file_extension": ".py",
   "mimetype": "text/x-python",
   "name": "python",
   "nbconvert_exporter": "python",
   "pygments_lexer": "ipython3",
   "version": "3.8.5"
  },
  "latex_envs": {
   "LaTeX_envs_menu_present": true,
   "autoclose": false,
   "autocomplete": true,
   "bibliofile": "biblio.bib",
   "cite_by": "apalike",
   "current_citInitial": 1,
   "eqLabelWithNumbers": true,
   "eqNumInitial": 1,
   "hotkeys": {
    "equation": "Ctrl-E",
    "itemize": "Ctrl-I"
   },
   "labels_anchors": false,
   "latex_user_defs": false,
   "report_style_numbering": false,
   "user_envs_cfg": false
  },
  "nteract": {
   "version": "0.12.3"
  }
 },
 "nbformat": 4,
 "nbformat_minor": 2
}
